{
  "nbformat": 4,
  "nbformat_minor": 0,
  "metadata": {
    "colab": {
      "provenance": [],
      "mount_file_id": "1IvU2vaZPIJi4gter6lpuekE5gatS67iD",
      "authorship_tag": "ABX9TyMW0dkI78DsRMSPSCZG06jV",
      "include_colab_link": true
    },
    "kernelspec": {
      "name": "python3",
      "display_name": "Python 3"
    },
    "language_info": {
      "name": "python"
    }
  },
  "cells": [
    {
      "cell_type": "markdown",
      "metadata": {
        "id": "view-in-github",
        "colab_type": "text"
      },
      "source": [
        "<a href=\"https://colab.research.google.com/github/YashK-27/Telecom-Churn-Prediction/blob/main/Telecom_churn.ipynb\" target=\"_parent\"><img src=\"https://colab.research.google.com/assets/colab-badge.svg\" alt=\"Open In Colab\"/></a>"
      ]
    },
    {
      "cell_type": "code",
      "execution_count": 1,
      "metadata": {
        "id": "TN5n89Baf9Tb"
      },
      "outputs": [],
      "source": [
        "import numpy as np\n",
        "import pandas as pd\n",
        "import matplotlib.pyplot as plt\n",
        "import seaborn as sns\n",
        "from sklearn.metrics import confusion_matrix,classification_report\n",
        "from sklearn.model_selection import cross_val_score, GridSearchCV"
      ]
    },
    {
      "cell_type": "code",
      "source": [
        "from sklearn.preprocessing import LabelEncoder\n",
        "label_encoder=LabelEncoder()"
      ],
      "metadata": {
        "id": "vDRLHdrJp2On"
      },
      "execution_count": 2,
      "outputs": []
    },
    {
      "cell_type": "code",
      "source": [
        "df_train =pd.read_csv(\"/content/drive/MyDrive/Colab Notebooks/Internship/DATA/Churn/cell2cell_train.csv\")"
      ],
      "metadata": {
        "id": "laRii9-HiKtB"
      },
      "execution_count": 3,
      "outputs": []
    },
    {
      "cell_type": "code",
      "source": [
        "print(df_train.info())\n",
        "df_train.head()"
      ],
      "metadata": {
        "colab": {
          "base_uri": "https://localhost:8080/",
          "height": 1000
        },
        "id": "h8MTuGmOkVPJ",
        "outputId": "448b9b85-47b3-4037-eb7e-03df0716c6ee"
      },
      "execution_count": 4,
      "outputs": [
        {
          "output_type": "stream",
          "name": "stdout",
          "text": [
            "<class 'pandas.core.frame.DataFrame'>\n",
            "RangeIndex: 51047 entries, 0 to 51046\n",
            "Data columns (total 58 columns):\n",
            " #   Column                     Non-Null Count  Dtype  \n",
            "---  ------                     --------------  -----  \n",
            " 0   CustomerID                 51047 non-null  int64  \n",
            " 1   Churn                      51047 non-null  object \n",
            " 2   MonthlyRevenue             50891 non-null  float64\n",
            " 3   MonthlyMinutes             50891 non-null  float64\n",
            " 4   TotalRecurringCharge       50891 non-null  float64\n",
            " 5   DirectorAssistedCalls      50891 non-null  float64\n",
            " 6   OverageMinutes             50891 non-null  float64\n",
            " 7   RoamingCalls               50891 non-null  float64\n",
            " 8   PercChangeMinutes          50680 non-null  float64\n",
            " 9   PercChangeRevenues         50680 non-null  float64\n",
            " 10  DroppedCalls               51047 non-null  float64\n",
            " 11  BlockedCalls               51047 non-null  float64\n",
            " 12  UnansweredCalls            51047 non-null  float64\n",
            " 13  CustomerCareCalls          51047 non-null  float64\n",
            " 14  ThreewayCalls              51047 non-null  float64\n",
            " 15  ReceivedCalls              51047 non-null  float64\n",
            " 16  OutboundCalls              51047 non-null  float64\n",
            " 17  InboundCalls               51047 non-null  float64\n",
            " 18  PeakCallsInOut             51047 non-null  float64\n",
            " 19  OffPeakCallsInOut          51047 non-null  float64\n",
            " 20  DroppedBlockedCalls        51047 non-null  float64\n",
            " 21  CallForwardingCalls        51047 non-null  float64\n",
            " 22  CallWaitingCalls           51047 non-null  float64\n",
            " 23  MonthsInService            51047 non-null  int64  \n",
            " 24  UniqueSubs                 51047 non-null  int64  \n",
            " 25  ActiveSubs                 51047 non-null  int64  \n",
            " 26  ServiceArea                51023 non-null  object \n",
            " 27  Handsets                   51046 non-null  float64\n",
            " 28  HandsetModels              51046 non-null  float64\n",
            " 29  CurrentEquipmentDays       51046 non-null  float64\n",
            " 30  AgeHH1                     50138 non-null  float64\n",
            " 31  AgeHH2                     50138 non-null  float64\n",
            " 32  ChildrenInHH               51047 non-null  object \n",
            " 33  HandsetRefurbished         51047 non-null  object \n",
            " 34  HandsetWebCapable          51047 non-null  object \n",
            " 35  TruckOwner                 51047 non-null  object \n",
            " 36  RVOwner                    51047 non-null  object \n",
            " 37  Homeownership              51047 non-null  object \n",
            " 38  BuysViaMailOrder           51047 non-null  object \n",
            " 39  RespondsToMailOffers       51047 non-null  object \n",
            " 40  OptOutMailings             51047 non-null  object \n",
            " 41  NonUSTravel                51047 non-null  object \n",
            " 42  OwnsComputer               51047 non-null  object \n",
            " 43  HasCreditCard              51047 non-null  object \n",
            " 44  RetentionCalls             51047 non-null  int64  \n",
            " 45  RetentionOffersAccepted    51047 non-null  int64  \n",
            " 46  NewCellphoneUser           51047 non-null  object \n",
            " 47  NotNewCellphoneUser        51047 non-null  object \n",
            " 48  ReferralsMadeBySubscriber  51047 non-null  int64  \n",
            " 49  IncomeGroup                51047 non-null  int64  \n",
            " 50  OwnsMotorcycle             51047 non-null  object \n",
            " 51  AdjustmentsToCreditRating  51047 non-null  int64  \n",
            " 52  HandsetPrice               51047 non-null  object \n",
            " 53  MadeCallToRetentionTeam    51047 non-null  object \n",
            " 54  CreditRating               51047 non-null  object \n",
            " 55  PrizmCode                  51047 non-null  object \n",
            " 56  Occupation                 51047 non-null  object \n",
            " 57  MaritalStatus              51047 non-null  object \n",
            "dtypes: float64(26), int64(9), object(23)\n",
            "memory usage: 22.6+ MB\n",
            "None\n"
          ]
        },
        {
          "output_type": "execute_result",
          "data": {
            "text/plain": [
              "   CustomerID Churn  MonthlyRevenue  MonthlyMinutes  TotalRecurringCharge  \\\n",
              "0     3000002   Yes           24.00           219.0                  22.0   \n",
              "1     3000010   Yes           16.99            10.0                  17.0   \n",
              "2     3000014    No           38.00             8.0                  38.0   \n",
              "3     3000022    No           82.28          1312.0                  75.0   \n",
              "4     3000026   Yes           17.14             0.0                  17.0   \n",
              "\n",
              "   DirectorAssistedCalls  OverageMinutes  RoamingCalls  PercChangeMinutes  \\\n",
              "0                   0.25             0.0           0.0             -157.0   \n",
              "1                   0.00             0.0           0.0               -4.0   \n",
              "2                   0.00             0.0           0.0               -2.0   \n",
              "3                   1.24             0.0           0.0              157.0   \n",
              "4                   0.00             0.0           0.0                0.0   \n",
              "\n",
              "   PercChangeRevenues  ...  ReferralsMadeBySubscriber  IncomeGroup  \\\n",
              "0               -19.0  ...                          0            4   \n",
              "1                 0.0  ...                          0            5   \n",
              "2                 0.0  ...                          0            6   \n",
              "3                 8.1  ...                          0            6   \n",
              "4                -0.2  ...                          0            9   \n",
              "\n",
              "   OwnsMotorcycle  AdjustmentsToCreditRating  HandsetPrice  \\\n",
              "0              No                          0            30   \n",
              "1              No                          0            30   \n",
              "2              No                          0       Unknown   \n",
              "3              No                          0            10   \n",
              "4              No                          1            10   \n",
              "\n",
              "   MadeCallToRetentionTeam  CreditRating  PrizmCode    Occupation  \\\n",
              "0                      Yes     1-Highest   Suburban  Professional   \n",
              "1                       No      4-Medium   Suburban  Professional   \n",
              "2                       No        3-Good       Town        Crafts   \n",
              "3                       No      4-Medium      Other         Other   \n",
              "4                       No     1-Highest      Other  Professional   \n",
              "\n",
              "   MaritalStatus  \n",
              "0             No  \n",
              "1            Yes  \n",
              "2            Yes  \n",
              "3             No  \n",
              "4            Yes  \n",
              "\n",
              "[5 rows x 58 columns]"
            ],
            "text/html": [
              "\n",
              "  <div id=\"df-a7e62fac-0510-4345-a8a8-a7bbe0b722d0\">\n",
              "    <div class=\"colab-df-container\">\n",
              "      <div>\n",
              "<style scoped>\n",
              "    .dataframe tbody tr th:only-of-type {\n",
              "        vertical-align: middle;\n",
              "    }\n",
              "\n",
              "    .dataframe tbody tr th {\n",
              "        vertical-align: top;\n",
              "    }\n",
              "\n",
              "    .dataframe thead th {\n",
              "        text-align: right;\n",
              "    }\n",
              "</style>\n",
              "<table border=\"1\" class=\"dataframe\">\n",
              "  <thead>\n",
              "    <tr style=\"text-align: right;\">\n",
              "      <th></th>\n",
              "      <th>CustomerID</th>\n",
              "      <th>Churn</th>\n",
              "      <th>MonthlyRevenue</th>\n",
              "      <th>MonthlyMinutes</th>\n",
              "      <th>TotalRecurringCharge</th>\n",
              "      <th>DirectorAssistedCalls</th>\n",
              "      <th>OverageMinutes</th>\n",
              "      <th>RoamingCalls</th>\n",
              "      <th>PercChangeMinutes</th>\n",
              "      <th>PercChangeRevenues</th>\n",
              "      <th>...</th>\n",
              "      <th>ReferralsMadeBySubscriber</th>\n",
              "      <th>IncomeGroup</th>\n",
              "      <th>OwnsMotorcycle</th>\n",
              "      <th>AdjustmentsToCreditRating</th>\n",
              "      <th>HandsetPrice</th>\n",
              "      <th>MadeCallToRetentionTeam</th>\n",
              "      <th>CreditRating</th>\n",
              "      <th>PrizmCode</th>\n",
              "      <th>Occupation</th>\n",
              "      <th>MaritalStatus</th>\n",
              "    </tr>\n",
              "  </thead>\n",
              "  <tbody>\n",
              "    <tr>\n",
              "      <th>0</th>\n",
              "      <td>3000002</td>\n",
              "      <td>Yes</td>\n",
              "      <td>24.00</td>\n",
              "      <td>219.0</td>\n",
              "      <td>22.0</td>\n",
              "      <td>0.25</td>\n",
              "      <td>0.0</td>\n",
              "      <td>0.0</td>\n",
              "      <td>-157.0</td>\n",
              "      <td>-19.0</td>\n",
              "      <td>...</td>\n",
              "      <td>0</td>\n",
              "      <td>4</td>\n",
              "      <td>No</td>\n",
              "      <td>0</td>\n",
              "      <td>30</td>\n",
              "      <td>Yes</td>\n",
              "      <td>1-Highest</td>\n",
              "      <td>Suburban</td>\n",
              "      <td>Professional</td>\n",
              "      <td>No</td>\n",
              "    </tr>\n",
              "    <tr>\n",
              "      <th>1</th>\n",
              "      <td>3000010</td>\n",
              "      <td>Yes</td>\n",
              "      <td>16.99</td>\n",
              "      <td>10.0</td>\n",
              "      <td>17.0</td>\n",
              "      <td>0.00</td>\n",
              "      <td>0.0</td>\n",
              "      <td>0.0</td>\n",
              "      <td>-4.0</td>\n",
              "      <td>0.0</td>\n",
              "      <td>...</td>\n",
              "      <td>0</td>\n",
              "      <td>5</td>\n",
              "      <td>No</td>\n",
              "      <td>0</td>\n",
              "      <td>30</td>\n",
              "      <td>No</td>\n",
              "      <td>4-Medium</td>\n",
              "      <td>Suburban</td>\n",
              "      <td>Professional</td>\n",
              "      <td>Yes</td>\n",
              "    </tr>\n",
              "    <tr>\n",
              "      <th>2</th>\n",
              "      <td>3000014</td>\n",
              "      <td>No</td>\n",
              "      <td>38.00</td>\n",
              "      <td>8.0</td>\n",
              "      <td>38.0</td>\n",
              "      <td>0.00</td>\n",
              "      <td>0.0</td>\n",
              "      <td>0.0</td>\n",
              "      <td>-2.0</td>\n",
              "      <td>0.0</td>\n",
              "      <td>...</td>\n",
              "      <td>0</td>\n",
              "      <td>6</td>\n",
              "      <td>No</td>\n",
              "      <td>0</td>\n",
              "      <td>Unknown</td>\n",
              "      <td>No</td>\n",
              "      <td>3-Good</td>\n",
              "      <td>Town</td>\n",
              "      <td>Crafts</td>\n",
              "      <td>Yes</td>\n",
              "    </tr>\n",
              "    <tr>\n",
              "      <th>3</th>\n",
              "      <td>3000022</td>\n",
              "      <td>No</td>\n",
              "      <td>82.28</td>\n",
              "      <td>1312.0</td>\n",
              "      <td>75.0</td>\n",
              "      <td>1.24</td>\n",
              "      <td>0.0</td>\n",
              "      <td>0.0</td>\n",
              "      <td>157.0</td>\n",
              "      <td>8.1</td>\n",
              "      <td>...</td>\n",
              "      <td>0</td>\n",
              "      <td>6</td>\n",
              "      <td>No</td>\n",
              "      <td>0</td>\n",
              "      <td>10</td>\n",
              "      <td>No</td>\n",
              "      <td>4-Medium</td>\n",
              "      <td>Other</td>\n",
              "      <td>Other</td>\n",
              "      <td>No</td>\n",
              "    </tr>\n",
              "    <tr>\n",
              "      <th>4</th>\n",
              "      <td>3000026</td>\n",
              "      <td>Yes</td>\n",
              "      <td>17.14</td>\n",
              "      <td>0.0</td>\n",
              "      <td>17.0</td>\n",
              "      <td>0.00</td>\n",
              "      <td>0.0</td>\n",
              "      <td>0.0</td>\n",
              "      <td>0.0</td>\n",
              "      <td>-0.2</td>\n",
              "      <td>...</td>\n",
              "      <td>0</td>\n",
              "      <td>9</td>\n",
              "      <td>No</td>\n",
              "      <td>1</td>\n",
              "      <td>10</td>\n",
              "      <td>No</td>\n",
              "      <td>1-Highest</td>\n",
              "      <td>Other</td>\n",
              "      <td>Professional</td>\n",
              "      <td>Yes</td>\n",
              "    </tr>\n",
              "  </tbody>\n",
              "</table>\n",
              "<p>5 rows × 58 columns</p>\n",
              "</div>\n",
              "      <button class=\"colab-df-convert\" onclick=\"convertToInteractive('df-a7e62fac-0510-4345-a8a8-a7bbe0b722d0')\"\n",
              "              title=\"Convert this dataframe to an interactive table.\"\n",
              "              style=\"display:none;\">\n",
              "        \n",
              "  <svg xmlns=\"http://www.w3.org/2000/svg\" height=\"24px\"viewBox=\"0 0 24 24\"\n",
              "       width=\"24px\">\n",
              "    <path d=\"M0 0h24v24H0V0z\" fill=\"none\"/>\n",
              "    <path d=\"M18.56 5.44l.94 2.06.94-2.06 2.06-.94-2.06-.94-.94-2.06-.94 2.06-2.06.94zm-11 1L8.5 8.5l.94-2.06 2.06-.94-2.06-.94L8.5 2.5l-.94 2.06-2.06.94zm10 10l.94 2.06.94-2.06 2.06-.94-2.06-.94-.94-2.06-.94 2.06-2.06.94z\"/><path d=\"M17.41 7.96l-1.37-1.37c-.4-.4-.92-.59-1.43-.59-.52 0-1.04.2-1.43.59L10.3 9.45l-7.72 7.72c-.78.78-.78 2.05 0 2.83L4 21.41c.39.39.9.59 1.41.59.51 0 1.02-.2 1.41-.59l7.78-7.78 2.81-2.81c.8-.78.8-2.07 0-2.86zM5.41 20L4 18.59l7.72-7.72 1.47 1.35L5.41 20z\"/>\n",
              "  </svg>\n",
              "      </button>\n",
              "      \n",
              "  <style>\n",
              "    .colab-df-container {\n",
              "      display:flex;\n",
              "      flex-wrap:wrap;\n",
              "      gap: 12px;\n",
              "    }\n",
              "\n",
              "    .colab-df-convert {\n",
              "      background-color: #E8F0FE;\n",
              "      border: none;\n",
              "      border-radius: 50%;\n",
              "      cursor: pointer;\n",
              "      display: none;\n",
              "      fill: #1967D2;\n",
              "      height: 32px;\n",
              "      padding: 0 0 0 0;\n",
              "      width: 32px;\n",
              "    }\n",
              "\n",
              "    .colab-df-convert:hover {\n",
              "      background-color: #E2EBFA;\n",
              "      box-shadow: 0px 1px 2px rgba(60, 64, 67, 0.3), 0px 1px 3px 1px rgba(60, 64, 67, 0.15);\n",
              "      fill: #174EA6;\n",
              "    }\n",
              "\n",
              "    [theme=dark] .colab-df-convert {\n",
              "      background-color: #3B4455;\n",
              "      fill: #D2E3FC;\n",
              "    }\n",
              "\n",
              "    [theme=dark] .colab-df-convert:hover {\n",
              "      background-color: #434B5C;\n",
              "      box-shadow: 0px 1px 3px 1px rgba(0, 0, 0, 0.15);\n",
              "      filter: drop-shadow(0px 1px 2px rgba(0, 0, 0, 0.3));\n",
              "      fill: #FFFFFF;\n",
              "    }\n",
              "  </style>\n",
              "\n",
              "      <script>\n",
              "        const buttonEl =\n",
              "          document.querySelector('#df-a7e62fac-0510-4345-a8a8-a7bbe0b722d0 button.colab-df-convert');\n",
              "        buttonEl.style.display =\n",
              "          google.colab.kernel.accessAllowed ? 'block' : 'none';\n",
              "\n",
              "        async function convertToInteractive(key) {\n",
              "          const element = document.querySelector('#df-a7e62fac-0510-4345-a8a8-a7bbe0b722d0');\n",
              "          const dataTable =\n",
              "            await google.colab.kernel.invokeFunction('convertToInteractive',\n",
              "                                                     [key], {});\n",
              "          if (!dataTable) return;\n",
              "\n",
              "          const docLinkHtml = 'Like what you see? Visit the ' +\n",
              "            '<a target=\"_blank\" href=https://colab.research.google.com/notebooks/data_table.ipynb>data table notebook</a>'\n",
              "            + ' to learn more about interactive tables.';\n",
              "          element.innerHTML = '';\n",
              "          dataTable['output_type'] = 'display_data';\n",
              "          await google.colab.output.renderOutput(dataTable, element);\n",
              "          const docLink = document.createElement('div');\n",
              "          docLink.innerHTML = docLinkHtml;\n",
              "          element.appendChild(docLink);\n",
              "        }\n",
              "      </script>\n",
              "    </div>\n",
              "  </div>\n",
              "  "
            ]
          },
          "metadata": {},
          "execution_count": 4
        }
      ]
    },
    {
      "cell_type": "code",
      "source": [
        "df_train.shape"
      ],
      "metadata": {
        "colab": {
          "base_uri": "https://localhost:8080/"
        },
        "id": "MpcYEWE305Bm",
        "outputId": "25085f6c-c59f-4310-9389-42d13b52e243"
      },
      "execution_count": 5,
      "outputs": [
        {
          "output_type": "execute_result",
          "data": {
            "text/plain": [
              "(51047, 58)"
            ]
          },
          "metadata": {},
          "execution_count": 5
        }
      ]
    },
    {
      "cell_type": "code",
      "source": [
        "# print(df_test.info())\n",
        "# df_test.head()"
      ],
      "metadata": {
        "id": "jh8_B9AnkkgZ"
      },
      "execution_count": 6,
      "outputs": []
    },
    {
      "cell_type": "markdown",
      "source": [
        "## **Data Analysis**"
      ],
      "metadata": {
        "id": "Au-RkieuxwU2"
      }
    },
    {
      "cell_type": "markdown",
      "source": [
        "First check whether the dataset have any duplicate rows if yes the delete them"
      ],
      "metadata": {
        "id": "p---7E4p0Dpa"
      }
    },
    {
      "cell_type": "code",
      "source": [
        "df_train.duplicated().sum()"
      ],
      "metadata": {
        "colab": {
          "base_uri": "https://localhost:8080/"
        },
        "id": "pchTHGAYxwIo",
        "outputId": "ae8e7d4a-4f38-4a9e-809b-f37673331e3d"
      },
      "execution_count": 7,
      "outputs": [
        {
          "output_type": "execute_result",
          "data": {
            "text/plain": [
              "0"
            ]
          },
          "metadata": {},
          "execution_count": 7
        }
      ]
    },
    {
      "cell_type": "markdown",
      "source": [
        "Stats about dependent variable"
      ],
      "metadata": {
        "id": "eVsUWS_Y0_-d"
      }
    },
    {
      "cell_type": "code",
      "source": [
        "df_train['Churn'].describe()"
      ],
      "metadata": {
        "colab": {
          "base_uri": "https://localhost:8080/"
        },
        "id": "SIgxagISxwFL",
        "outputId": "f953f030-408e-4334-8dc9-69ed9f7dcf73"
      },
      "execution_count": 8,
      "outputs": [
        {
          "output_type": "execute_result",
          "data": {
            "text/plain": [
              "count     51047\n",
              "unique        2\n",
              "top          No\n",
              "freq      36336\n",
              "Name: Churn, dtype: object"
            ]
          },
          "metadata": {},
          "execution_count": 8
        }
      ]
    },
    {
      "cell_type": "markdown",
      "source": [
        "Distribution of dependent variable"
      ],
      "metadata": {
        "id": "n0AAKGv91Itr"
      }
    },
    {
      "cell_type": "code",
      "source": [
        "# Churn count plot\n",
        "plt.figure(figsize=(6,6))\n",
        "sns.countplot(df_train['Churn'])\n",
        "plt.show()"
      ],
      "metadata": {
        "colab": {
          "base_uri": "https://localhost:8080/",
          "height": 443
        },
        "id": "E0RZEVwwDGpy",
        "outputId": "3a6fd33a-300a-4e40-f146-733fa8fef6ea"
      },
      "execution_count": 9,
      "outputs": [
        {
          "output_type": "stream",
          "name": "stderr",
          "text": [
            "/usr/local/lib/python3.8/dist-packages/seaborn/_decorators.py:36: FutureWarning: Pass the following variable as a keyword arg: x. From version 0.12, the only valid positional argument will be `data`, and passing other arguments without an explicit keyword will result in an error or misinterpretation.\n",
            "  warnings.warn(\n"
          ]
        },
        {
          "output_type": "display_data",
          "data": {
            "text/plain": [
              "<Figure size 432x432 with 1 Axes>"
            ],
            "image/png": "[encoded data removed]"
          },
          "metadata": {
            "needs_background": "light"
          }
        }
      ]
    },
    {
      "cell_type": "markdown",
      "source": [
        "We can see that the data is imbalanced with approx 70% "
      ],
      "metadata": {
        "id": "m9LbRSLV1WAs"
      }
    },
    {
      "cell_type": "markdown",
      "source": [
        "Connvert the data according to model requirements"
      ],
      "metadata": {
        "id": "lNtjac3h1h_R"
      }
    },
    {
      "cell_type": "code",
      "source": [
        "#label encoding for Churn Yes=1,No=0\n",
        "df_train['Churn']= label_encoder.fit_transform(df_train['Churn'])\n",
        "df_train['Churn'].unique()\n",
        "df_train['Churn'].value_counts(dropna = False).sort_values()"
      ],
      "metadata": {
        "colab": {
          "base_uri": "https://localhost:8080/"
        },
        "id": "yVINEP8LpJnh",
        "outputId": "d7a07a4d-c5ab-4b7a-f545-5d7ac76f8c68"
      },
      "execution_count": 10,
      "outputs": [
        {
          "output_type": "execute_result",
          "data": {
            "text/plain": [
              "1    14711\n",
              "0    36336\n",
              "Name: Churn, dtype: int64"
            ]
          },
          "metadata": {},
          "execution_count": 10
        }
      ]
    },
    {
      "cell_type": "markdown",
      "source": [
        "Classifying dtypes as categorical and number features"
      ],
      "metadata": {
        "id": "Ikz1_pLs3KvV"
      }
    },
    {
      "cell_type": "code",
      "source": [
        "# Y=df_train['Churn']\n",
        "# df_train=df_train.drop(columns=['Churn'])"
      ],
      "metadata": {
        "id": "oHXjtUNw5hxO"
      },
      "execution_count": 11,
      "outputs": []
    },
    {
      "cell_type": "code",
      "source": [
        "list_cat_features_with_numbers = ['CustomerID']"
      ],
      "metadata": {
        "id": "Kei1YW1R3fTo"
      },
      "execution_count": 12,
      "outputs": []
    },
    {
      "cell_type": "code",
      "source": [
        "list_num_features = [column for column in df_train.drop(columns=['Churn']).select_dtypes(include = 'number').columns if (column not in list_cat_features_with_numbers)]\n",
        "print(list_num_features, \", \\n count =\", len(list_num_features))"
      ],
      "metadata": {
        "colab": {
          "base_uri": "https://localhost:8080/"
        },
        "id": "Kl3PSZd85XUL",
        "outputId": "9eb2f68b-64ad-4a42-de87-7df787ae381e"
      },
      "execution_count": 13,
      "outputs": [
        {
          "output_type": "stream",
          "name": "stdout",
          "text": [
            "['MonthlyRevenue', 'MonthlyMinutes', 'TotalRecurringCharge', 'DirectorAssistedCalls', 'OverageMinutes', 'RoamingCalls', 'PercChangeMinutes', 'PercChangeRevenues', 'DroppedCalls', 'BlockedCalls', 'UnansweredCalls', 'CustomerCareCalls', 'ThreewayCalls', 'ReceivedCalls', 'OutboundCalls', 'InboundCalls', 'PeakCallsInOut', 'OffPeakCallsInOut', 'DroppedBlockedCalls', 'CallForwardingCalls', 'CallWaitingCalls', 'MonthsInService', 'UniqueSubs', 'ActiveSubs', 'Handsets', 'HandsetModels', 'CurrentEquipmentDays', 'AgeHH1', 'AgeHH2', 'RetentionCalls', 'RetentionOffersAccepted', 'ReferralsMadeBySubscriber', 'IncomeGroup', 'AdjustmentsToCreditRating'] , \n",
            " count = 34\n"
          ]
        }
      ]
    },
    {
      "cell_type": "code",
      "source": [
        "list_cat_features = [column for column in df_train.drop(columns=['Churn']).select_dtypes(include = 'object').columns]\n",
        "print(list_cat_features, \",\\n count =\", len(list_cat_features))"
      ],
      "metadata": {
        "colab": {
          "base_uri": "https://localhost:8080/"
        },
        "id": "KVTSAMEI94EZ",
        "outputId": "0eaffcdc-72c9-4f0c-9744-e688dc00eb63"
      },
      "execution_count": 14,
      "outputs": [
        {
          "output_type": "stream",
          "name": "stdout",
          "text": [
            "['ServiceArea', 'ChildrenInHH', 'HandsetRefurbished', 'HandsetWebCapable', 'TruckOwner', 'RVOwner', 'Homeownership', 'BuysViaMailOrder', 'RespondsToMailOffers', 'OptOutMailings', 'NonUSTravel', 'OwnsComputer', 'HasCreditCard', 'NewCellphoneUser', 'NotNewCellphoneUser', 'OwnsMotorcycle', 'HandsetPrice', 'MadeCallToRetentionTeam', 'CreditRating', 'PrizmCode', 'Occupation', 'MaritalStatus'] ,\n",
            " count = 22\n"
          ]
        }
      ]
    },
    {
      "cell_type": "markdown",
      "source": [
        "# What are the distributions of the numerical features in the dataset?"
      ],
      "metadata": {
        "id": "7i1ii6ANAHn4"
      }
    },
    {
      "cell_type": "code",
      "source": [
        "df_train[list_num_features].hist(bins = 20, figsize = (20, 15));"
      ],
      "metadata": {
        "colab": {
          "base_uri": "https://localhost:8080/",
          "height": 879
        },
        "id": "I-6nIFkhxv9W",
        "outputId": "4a8bb532-cb1d-4b87-9a8f-51f101a83f82"
      },
      "execution_count": 15,
      "outputs": [
        {
          "output_type": "display_data",
          "data": {
            "text/plain": [
              "<Figure size 1440x1080 with 36 Axes>"
            ],
            "image/png": "[encoded data removed]"
          },
          "metadata": {
            "needs_background": "light"
          }
        }
      ]
    },
    {
      "cell_type": "markdown",
      "source": [
        "# What are the frequencies of each category of the categorical features in the dataset?"
      ],
      "metadata": {
        "id": "WQA0o8hwADco"
      }
    },
    {
      "cell_type": "code",
      "source": [
        "# fig, axes = plt.subplots(nrows = 22, ncols = 1, figsize = (25, 25)) # 22 plots in total\n",
        "# fig.tight_layout()\n",
        "\n",
        "# for i, column in enumerate(list_cat_features):\n",
        "#     ax = df_train[column].value_counts(dropna = False, sort = False).plot(kind = 'barh', title = column, ax = axes[i])\n",
        "#     ax.bar_label(ax.containers[0]);"
      ],
      "metadata": {
        "id": "yyARBpRwxv62"
      },
      "execution_count": 16,
      "outputs": []
    },
    {
      "cell_type": "markdown",
      "source": [
        "# Are the class of the target variable 'Churn' linearly separable?"
      ],
      "metadata": {
        "id": "bCRG-2JFMwKp"
      }
    },
    {
      "cell_type": "code",
      "source": [
        "# sns.pairplot(df_train.iloc[:, :11], hue = 'Churn');"
      ],
      "metadata": {
        "id": "miEbyE1exv4c"
      },
      "execution_count": 17,
      "outputs": []
    },
    {
      "cell_type": "markdown",
      "source": [
        "**Missing values**"
      ],
      "metadata": {
        "id": "Fd-5hlforhxs"
      }
    },
    {
      "cell_type": "code",
      "source": [
        "# print(\"Any missing sample in training set:\",df_train.isnull().values.any())\n",
        "# print(\"Any missing sample in test set:\",df_test.isnull().values.any(), \"\\n\")"
      ],
      "metadata": {
        "id": "X1BHvsEUsBmI"
      },
      "execution_count": 18,
      "outputs": []
    },
    {
      "cell_type": "code",
      "source": [
        "print(\"training data null values\",df_train.isnull().sum())"
      ],
      "metadata": {
        "colab": {
          "base_uri": "https://localhost:8080/"
        },
        "id": "BUeP7ad-rYM9",
        "outputId": "0644ef19-1da8-468d-b540-35fd17033d26"
      },
      "execution_count": 19,
      "outputs": [
        {
          "output_type": "stream",
          "name": "stdout",
          "text": [
            "training data null values CustomerID                     0\n",
            "Churn                          0\n",
            "MonthlyRevenue               156\n",
            "MonthlyMinutes               156\n",
            "TotalRecurringCharge         156\n",
            "DirectorAssistedCalls        156\n",
            "OverageMinutes               156\n",
            "RoamingCalls                 156\n",
            "PercChangeMinutes            367\n",
            "PercChangeRevenues           367\n",
            "DroppedCalls                   0\n",
            "BlockedCalls                   0\n",
            "UnansweredCalls                0\n",
            "CustomerCareCalls              0\n",
            "ThreewayCalls                  0\n",
            "ReceivedCalls                  0\n",
            "OutboundCalls                  0\n",
            "InboundCalls                   0\n",
            "PeakCallsInOut                 0\n",
            "OffPeakCallsInOut              0\n",
            "DroppedBlockedCalls            0\n",
            "CallForwardingCalls            0\n",
            "CallWaitingCalls               0\n",
            "MonthsInService                0\n",
            "UniqueSubs                     0\n",
            "ActiveSubs                     0\n",
            "ServiceArea                   24\n",
            "Handsets                       1\n",
            "HandsetModels                  1\n",
            "CurrentEquipmentDays           1\n",
            "AgeHH1                       909\n",
            "AgeHH2                       909\n",
            "ChildrenInHH                   0\n",
            "HandsetRefurbished             0\n",
            "HandsetWebCapable              0\n",
            "TruckOwner                     0\n",
            "RVOwner                        0\n",
            "Homeownership                  0\n",
            "BuysViaMailOrder               0\n",
            "RespondsToMailOffers           0\n",
            "OptOutMailings                 0\n",
            "NonUSTravel                    0\n",
            "OwnsComputer                   0\n",
            "HasCreditCard                  0\n",
            "RetentionCalls                 0\n",
            "RetentionOffersAccepted        0\n",
            "NewCellphoneUser               0\n",
            "NotNewCellphoneUser            0\n",
            "ReferralsMadeBySubscriber      0\n",
            "IncomeGroup                    0\n",
            "OwnsMotorcycle                 0\n",
            "AdjustmentsToCreditRating      0\n",
            "HandsetPrice                   0\n",
            "MadeCallToRetentionTeam        0\n",
            "CreditRating                   0\n",
            "PrizmCode                      0\n",
            "Occupation                     0\n",
            "MaritalStatus                  0\n",
            "dtype: int64\n"
          ]
        }
      ]
    },
    {
      "cell_type": "code",
      "source": [
        "df_train.describe()"
      ],
      "metadata": {
        "colab": {
          "base_uri": "https://localhost:8080/",
          "height": 393
        },
        "id": "m-_Aj-uMPerb",
        "outputId": "0814b7e6-decd-4b21-c6a8-0fe5fa558c72"
      },
      "execution_count": 20,
      "outputs": [
        {
          "output_type": "execute_result",
          "data": {
            "text/plain": [
              "         CustomerID         Churn  MonthlyRevenue  MonthlyMinutes  \\\n",
              "count  5.104700e+04  51047.000000    50891.000000    50891.000000   \n",
              "mean   3.201957e+06      0.288185       58.834492      525.653416   \n",
              "std    1.169056e+05      0.452922       44.507336      529.871063   \n",
              "min    3.000002e+06      0.000000       -6.170000        0.000000   \n",
              "25%    3.100632e+06      0.000000       33.610000      158.000000   \n",
              "50%    3.201534e+06      0.000000       48.460000      366.000000   \n",
              "75%    3.305376e+06      1.000000       71.065000      723.000000   \n",
              "max    3.399994e+06      1.000000     1223.380000     7359.000000   \n",
              "\n",
              "       TotalRecurringCharge  DirectorAssistedCalls  OverageMinutes  \\\n",
              "count          50891.000000           50891.000000    50891.000000   \n",
              "mean              46.830088               0.895229       40.027785   \n",
              "std               23.848871               2.228546       96.588076   \n",
              "min              -11.000000               0.000000        0.000000   \n",
              "25%               30.000000               0.000000        0.000000   \n",
              "50%               45.000000               0.250000        3.000000   \n",
              "75%               60.000000               0.990000       41.000000   \n",
              "max              400.000000             159.390000     4321.000000   \n",
              "\n",
              "       RoamingCalls  PercChangeMinutes  PercChangeRevenues  ...      Handsets  \\\n",
              "count  50891.000000       50680.000000        50680.000000  ...  51046.000000   \n",
              "mean       1.236244         -11.547908           -1.191985  ...      1.805646   \n",
              "std        9.818294         257.514772           39.574915  ...      1.331173   \n",
              "min        0.000000       -3875.000000        -1107.700000  ...      1.000000   \n",
              "25%        0.000000         -83.000000           -7.100000  ...      1.000000   \n",
              "50%        0.000000          -5.000000           -0.300000  ...      1.000000   \n",
              "75%        0.300000          66.000000            1.600000  ...      2.000000   \n",
              "max     1112.400000        5192.000000         2483.500000  ...     24.000000   \n",
              "\n",
              "       HandsetModels  CurrentEquipmentDays        AgeHH1        AgeHH2  \\\n",
              "count   51046.000000          51046.000000  50138.000000  50138.000000   \n",
              "mean        1.558751            380.545841     31.338127     21.144142   \n",
              "std         0.905932            253.801982     22.094635     23.931368   \n",
              "min         1.000000             -5.000000      0.000000      0.000000   \n",
              "25%         1.000000            205.000000      0.000000      0.000000   \n",
              "50%         1.000000            329.000000     36.000000      0.000000   \n",
              "75%         2.000000            515.000000     48.000000     42.000000   \n",
              "max        15.000000           1812.000000     99.000000     99.000000   \n",
              "\n",
              "       RetentionCalls  RetentionOffersAccepted  ReferralsMadeBySubscriber  \\\n",
              "count    51047.000000             51047.000000               51047.000000   \n",
              "mean         0.037201                 0.018277                   0.052070   \n",
              "std          0.206483                 0.142458                   0.307592   \n",
              "min          0.000000                 0.000000                   0.000000   \n",
              "25%          0.000000                 0.000000                   0.000000   \n",
              "50%          0.000000                 0.000000                   0.000000   \n",
              "75%          0.000000                 0.000000                   0.000000   \n",
              "max          4.000000                 3.000000                  35.000000   \n",
              "\n",
              "        IncomeGroup  AdjustmentsToCreditRating  \n",
              "count  51047.000000               51047.000000  \n",
              "mean       4.324524                   0.053911  \n",
              "std        3.138236                   0.383147  \n",
              "min        0.000000                   0.000000  \n",
              "25%        0.000000                   0.000000  \n",
              "50%        5.000000                   0.000000  \n",
              "75%        7.000000                   0.000000  \n",
              "max        9.000000                  25.000000  \n",
              "\n",
              "[8 rows x 36 columns]"
            ],
            "text/html": [
              "\n",
              "  <div id=\"df-d1b07948-473b-4416-8a75-c047b9edaa02\">\n",
              "    <div class=\"colab-df-container\">\n",
              "      <div>\n",
              "<style scoped>\n",
              "    .dataframe tbody tr th:only-of-type {\n",
              "        vertical-align: middle;\n",
              "    }\n",
              "\n",
              "    .dataframe tbody tr th {\n",
              "        vertical-align: top;\n",
              "    }\n",
              "\n",
              "    .dataframe thead th {\n",
              "        text-align: right;\n",
              "    }\n",
              "</style>\n",
              "<table border=\"1\" class=\"dataframe\">\n",
              "  <thead>\n",
              "    <tr style=\"text-align: right;\">\n",
              "      <th></th>\n",
              "      <th>CustomerID</th>\n",
              "      <th>Churn</th>\n",
              "      <th>MonthlyRevenue</th>\n",
              "      <th>MonthlyMinutes</th>\n",
              "      <th>TotalRecurringCharge</th>\n",
              "      <th>DirectorAssistedCalls</th>\n",
              "      <th>OverageMinutes</th>\n",
              "      <th>RoamingCalls</th>\n",
              "      <th>PercChangeMinutes</th>\n",
              "      <th>PercChangeRevenues</th>\n",
              "      <th>...</th>\n",
              "      <th>Handsets</th>\n",
              "      <th>HandsetModels</th>\n",
              "      <th>CurrentEquipmentDays</th>\n",
              "      <th>AgeHH1</th>\n",
              "      <th>AgeHH2</th>\n",
              "      <th>RetentionCalls</th>\n",
              "      <th>RetentionOffersAccepted</th>\n",
              "      <th>ReferralsMadeBySubscriber</th>\n",
              "      <th>IncomeGroup</th>\n",
              "      <th>AdjustmentsToCreditRating</th>\n",
              "    </tr>\n",
              "  </thead>\n",
              "  <tbody>\n",
              "    <tr>\n",
              "      <th>count</th>\n",
              "      <td>5.104700e+04</td>\n",
              "      <td>51047.000000</td>\n",
              "      <td>50891.000000</td>\n",
              "      <td>50891.000000</td>\n",
              "      <td>50891.000000</td>\n",
              "      <td>50891.000000</td>\n",
              "      <td>50891.000000</td>\n",
              "      <td>50891.000000</td>\n",
              "      <td>50680.000000</td>\n",
              "      <td>50680.000000</td>\n",
              "      <td>...</td>\n",
              "      <td>51046.000000</td>\n",
              "      <td>51046.000000</td>\n",
              "      <td>51046.000000</td>\n",
              "      <td>50138.000000</td>\n",
              "      <td>50138.000000</td>\n",
              "      <td>51047.000000</td>\n",
              "      <td>51047.000000</td>\n",
              "      <td>51047.000000</td>\n",
              "      <td>51047.000000</td>\n",
              "      <td>51047.000000</td>\n",
              "    </tr>\n",
              "    <tr>\n",
              "      <th>mean</th>\n",
              "      <td>3.201957e+06</td>\n",
              "      <td>0.288185</td>\n",
              "      <td>58.834492</td>\n",
              "      <td>525.653416</td>\n",
              "      <td>46.830088</td>\n",
              "      <td>0.895229</td>\n",
              "      <td>40.027785</td>\n",
              "      <td>1.236244</td>\n",
              "      <td>-11.547908</td>\n",
              "      <td>-1.191985</td>\n",
              "      <td>...</td>\n",
              "      <td>1.805646</td>\n",
              "      <td>1.558751</td>\n",
              "      <td>380.545841</td>\n",
              "      <td>31.338127</td>\n",
              "      <td>21.144142</td>\n",
              "      <td>0.037201</td>\n",
              "      <td>0.018277</td>\n",
              "      <td>0.052070</td>\n",
              "      <td>4.324524</td>\n",
              "      <td>0.053911</td>\n",
              "    </tr>\n",
              "    <tr>\n",
              "      <th>std</th>\n",
              "      <td>1.169056e+05</td>\n",
              "      <td>0.452922</td>\n",
              "      <td>44.507336</td>\n",
              "      <td>529.871063</td>\n",
              "      <td>23.848871</td>\n",
              "      <td>2.228546</td>\n",
              "      <td>96.588076</td>\n",
              "      <td>9.818294</td>\n",
              "      <td>257.514772</td>\n",
              "      <td>39.574915</td>\n",
              "      <td>...</td>\n",
              "      <td>1.331173</td>\n",
              "      <td>0.905932</td>\n",
              "      <td>253.801982</td>\n",
              "      <td>22.094635</td>\n",
              "      <td>23.931368</td>\n",
              "      <td>0.206483</td>\n",
              "      <td>0.142458</td>\n",
              "      <td>0.307592</td>\n",
              "      <td>3.138236</td>\n",
              "      <td>0.383147</td>\n",
              "    </tr>\n",
              "    <tr>\n",
              "      <th>min</th>\n",
              "      <td>3.000002e+06</td>\n",
              "      <td>0.000000</td>\n",
              "      <td>-6.170000</td>\n",
              "      <td>0.000000</td>\n",
              "      <td>-11.000000</td>\n",
              "      <td>0.000000</td>\n",
              "      <td>0.000000</td>\n",
              "      <td>0.000000</td>\n",
              "      <td>-3875.000000</td>\n",
              "      <td>-1107.700000</td>\n",
              "      <td>...</td>\n",
              "      <td>1.000000</td>\n",
              "      <td>1.000000</td>\n",
              "      <td>-5.000000</td>\n",
              "      <td>0.000000</td>\n",
              "      <td>0.000000</td>\n",
              "      <td>0.000000</td>\n",
              "      <td>0.000000</td>\n",
              "      <td>0.000000</td>\n",
              "      <td>0.000000</td>\n",
              "      <td>0.000000</td>\n",
              "    </tr>\n",
              "    <tr>\n",
              "      <th>25%</th>\n",
              "      <td>3.100632e+06</td>\n",
              "      <td>0.000000</td>\n",
              "      <td>33.610000</td>\n",
              "      <td>158.000000</td>\n",
              "      <td>30.000000</td>\n",
              "      <td>0.000000</td>\n",
              "      <td>0.000000</td>\n",
              "      <td>0.000000</td>\n",
              "      <td>-83.000000</td>\n",
              "      <td>-7.100000</td>\n",
              "      <td>...</td>\n",
              "      <td>1.000000</td>\n",
              "      <td>1.000000</td>\n",
              "      <td>205.000000</td>\n",
              "      <td>0.000000</td>\n",
              "      <td>0.000000</td>\n",
              "      <td>0.000000</td>\n",
              "      <td>0.000000</td>\n",
              "      <td>0.000000</td>\n",
              "      <td>0.000000</td>\n",
              "      <td>0.000000</td>\n",
              "    </tr>\n",
              "    <tr>\n",
              "      <th>50%</th>\n",
              "      <td>3.201534e+06</td>\n",
              "      <td>0.000000</td>\n",
              "      <td>48.460000</td>\n",
              "      <td>366.000000</td>\n",
              "      <td>45.000000</td>\n",
              "      <td>0.250000</td>\n",
              "      <td>3.000000</td>\n",
              "      <td>0.000000</td>\n",
              "      <td>-5.000000</td>\n",
              "      <td>-0.300000</td>\n",
              "      <td>...</td>\n",
              "      <td>1.000000</td>\n",
              "      <td>1.000000</td>\n",
              "      <td>329.000000</td>\n",
              "      <td>36.000000</td>\n",
              "      <td>0.000000</td>\n",
              "      <td>0.000000</td>\n",
              "      <td>0.000000</td>\n",
              "      <td>0.000000</td>\n",
              "      <td>5.000000</td>\n",
              "      <td>0.000000</td>\n",
              "    </tr>\n",
              "    <tr>\n",
              "      <th>75%</th>\n",
              "      <td>3.305376e+06</td>\n",
              "      <td>1.000000</td>\n",
              "      <td>71.065000</td>\n",
              "      <td>723.000000</td>\n",
              "      <td>60.000000</td>\n",
              "      <td>0.990000</td>\n",
              "      <td>41.000000</td>\n",
              "      <td>0.300000</td>\n",
              "      <td>66.000000</td>\n",
              "      <td>1.600000</td>\n",
              "      <td>...</td>\n",
              "      <td>2.000000</td>\n",
              "      <td>2.000000</td>\n",
              "      <td>515.000000</td>\n",
              "      <td>48.000000</td>\n",
              "      <td>42.000000</td>\n",
              "      <td>0.000000</td>\n",
              "      <td>0.000000</td>\n",
              "      <td>0.000000</td>\n",
              "      <td>7.000000</td>\n",
              "      <td>0.000000</td>\n",
              "    </tr>\n",
              "    <tr>\n",
              "      <th>max</th>\n",
              "      <td>3.399994e+06</td>\n",
              "      <td>1.000000</td>\n",
              "      <td>1223.380000</td>\n",
              "      <td>7359.000000</td>\n",
              "      <td>400.000000</td>\n",
              "      <td>159.390000</td>\n",
              "      <td>4321.000000</td>\n",
              "      <td>1112.400000</td>\n",
              "      <td>5192.000000</td>\n",
              "      <td>2483.500000</td>\n",
              "      <td>...</td>\n",
              "      <td>24.000000</td>\n",
              "      <td>15.000000</td>\n",
              "      <td>1812.000000</td>\n",
              "      <td>99.000000</td>\n",
              "      <td>99.000000</td>\n",
              "      <td>4.000000</td>\n",
              "      <td>3.000000</td>\n",
              "      <td>35.000000</td>\n",
              "      <td>9.000000</td>\n",
              "      <td>25.000000</td>\n",
              "    </tr>\n",
              "  </tbody>\n",
              "</table>\n",
              "<p>8 rows × 36 columns</p>\n",
              "</div>\n",
              "      <button class=\"colab-df-convert\" onclick=\"convertToInteractive('df-d1b07948-473b-4416-8a75-c047b9edaa02')\"\n",
              "              title=\"Convert this dataframe to an interactive table.\"\n",
              "              style=\"display:none;\">\n",
              "        \n",
              "  <svg xmlns=\"http://www.w3.org/2000/svg\" height=\"24px\"viewBox=\"0 0 24 24\"\n",
              "       width=\"24px\">\n",
              "    <path d=\"M0 0h24v24H0V0z\" fill=\"none\"/>\n",
              "    <path d=\"M18.56 5.44l.94 2.06.94-2.06 2.06-.94-2.06-.94-.94-2.06-.94 2.06-2.06.94zm-11 1L8.5 8.5l.94-2.06 2.06-.94-2.06-.94L8.5 2.5l-.94 2.06-2.06.94zm10 10l.94 2.06.94-2.06 2.06-.94-2.06-.94-.94-2.06-.94 2.06-2.06.94z\"/><path d=\"M17.41 7.96l-1.37-1.37c-.4-.4-.92-.59-1.43-.59-.52 0-1.04.2-1.43.59L10.3 9.45l-7.72 7.72c-.78.78-.78 2.05 0 2.83L4 21.41c.39.39.9.59 1.41.59.51 0 1.02-.2 1.41-.59l7.78-7.78 2.81-2.81c.8-.78.8-2.07 0-2.86zM5.41 20L4 18.59l7.72-7.72 1.47 1.35L5.41 20z\"/>\n",
              "  </svg>\n",
              "      </button>\n",
              "      \n",
              "  <style>\n",
              "    .colab-df-container {\n",
              "      display:flex;\n",
              "      flex-wrap:wrap;\n",
              "      gap: 12px;\n",
              "    }\n",
              "\n",
              "    .colab-df-convert {\n",
              "      background-color: #E8F0FE;\n",
              "      border: none;\n",
              "      border-radius: 50%;\n",
              "      cursor: pointer;\n",
              "      display: none;\n",
              "      fill: #1967D2;\n",
              "      height: 32px;\n",
              "      padding: 0 0 0 0;\n",
              "      width: 32px;\n",
              "    }\n",
              "\n",
              "    .colab-df-convert:hover {\n",
              "      background-color: #E2EBFA;\n",
              "      box-shadow: 0px 1px 2px rgba(60, 64, 67, 0.3), 0px 1px 3px 1px rgba(60, 64, 67, 0.15);\n",
              "      fill: #174EA6;\n",
              "    }\n",
              "\n",
              "    [theme=dark] .colab-df-convert {\n",
              "      background-color: #3B4455;\n",
              "      fill: #D2E3FC;\n",
              "    }\n",
              "\n",
              "    [theme=dark] .colab-df-convert:hover {\n",
              "      background-color: #434B5C;\n",
              "      box-shadow: 0px 1px 3px 1px rgba(0, 0, 0, 0.15);\n",
              "      filter: drop-shadow(0px 1px 2px rgba(0, 0, 0, 0.3));\n",
              "      fill: #FFFFFF;\n",
              "    }\n",
              "  </style>\n",
              "\n",
              "      <script>\n",
              "        const buttonEl =\n",
              "          document.querySelector('#df-d1b07948-473b-4416-8a75-c047b9edaa02 button.colab-df-convert');\n",
              "        buttonEl.style.display =\n",
              "          google.colab.kernel.accessAllowed ? 'block' : 'none';\n",
              "\n",
              "        async function convertToInteractive(key) {\n",
              "          const element = document.querySelector('#df-d1b07948-473b-4416-8a75-c047b9edaa02');\n",
              "          const dataTable =\n",
              "            await google.colab.kernel.invokeFunction('convertToInteractive',\n",
              "                                                     [key], {});\n",
              "          if (!dataTable) return;\n",
              "\n",
              "          const docLinkHtml = 'Like what you see? Visit the ' +\n",
              "            '<a target=\"_blank\" href=https://colab.research.google.com/notebooks/data_table.ipynb>data table notebook</a>'\n",
              "            + ' to learn more about interactive tables.';\n",
              "          element.innerHTML = '';\n",
              "          dataTable['output_type'] = 'display_data';\n",
              "          await google.colab.output.renderOutput(dataTable, element);\n",
              "          const docLink = document.createElement('div');\n",
              "          docLink.innerHTML = docLinkHtml;\n",
              "          element.appendChild(docLink);\n",
              "        }\n",
              "      </script>\n",
              "    </div>\n",
              "  </div>\n",
              "  "
            ]
          },
          "metadata": {},
          "execution_count": 20
        }
      ]
    },
    {
      "cell_type": "code",
      "source": [
        "df_train['MonthlyRevenue']=df_train['MonthlyRevenue'].fillna(df_train['MonthlyRevenue'].median())\n",
        "df_train['MonthlyMinutes']=df_train['MonthlyMinutes'].fillna(df_train['MonthlyMinutes'].median())\n",
        "df_train['TotalRecurringCharge']=df_train['TotalRecurringCharge'].fillna(df_train['TotalRecurringCharge'].median())\n",
        "df_train['DirectorAssistedCalls']=df_train['DirectorAssistedCalls'].fillna(df_train['DirectorAssistedCalls'].median())\n",
        "df_train['OverageMinutes']=df_train['OverageMinutes'].fillna(df_train['OverageMinutes'].median())\n",
        "df_train['RoamingCalls']=df_train['RoamingCalls'].fillna(df_train['RoamingCalls'].median())\n",
        "df_train['PercChangeMinutes']=df_train['PercChangeMinutes'].fillna(df_train['PercChangeMinutes'].median())\n",
        "df_train['PercChangeRevenues']=df_train['PercChangeRevenues'].fillna(df_train['PercChangeRevenues'].median())\n",
        "df_train['AgeHH1']=df_train['AgeHH1'].fillna(df_train['AgeHH1'].median())\n",
        "df_train['AgeHH2']=df_train['AgeHH2'].fillna(df_train['AgeHH2'].median())\n",
        "df_train['Handsets']=df_train['Handsets'].fillna(df_train['Handsets'].median())\n",
        "df_train['HandsetModels']=df_train['HandsetModels'].fillna(df_train['HandsetModels'].median())\n",
        "df_train['CurrentEquipmentDays']=df_train['CurrentEquipmentDays'].fillna(df_train['CurrentEquipmentDays'].median())\n",
        "df_train['ServiceArea']=df_train['ServiceArea'].fillna(df_train['ServiceArea'].mode()[0])"
      ],
      "metadata": {
        "id": "uWj13Kn9NmWO"
      },
      "execution_count": 21,
      "outputs": []
    },
    {
      "cell_type": "code",
      "source": [
        "# # to a single column\n",
        "# df_train['MonthlyRevenue'] = df_train['MonthlyRevenue'].replace(np.nan,0)\n",
        "\n",
        "# # to whole dataframe\n",
        "# df_train = df_train.replace(np.nan,0)\n",
        "\n",
        "# df_train.replace(np.nan,0,inplace=True)\n",
        "# print(df_train)"
      ],
      "metadata": {
        "id": "OrJHdaKfviuu"
      },
      "execution_count": 22,
      "outputs": []
    },
    {
      "cell_type": "code",
      "source": [
        "print(\"training data null values\",df_train.isnull().sum())"
      ],
      "metadata": {
        "colab": {
          "base_uri": "https://localhost:8080/"
        },
        "id": "LoUpPZb33fRy",
        "outputId": "7a67dab4-6c5b-4962-ba72-6e3327b8f001"
      },
      "execution_count": 23,
      "outputs": [
        {
          "output_type": "stream",
          "name": "stdout",
          "text": [
            "training data null values CustomerID                   0\n",
            "Churn                        0\n",
            "MonthlyRevenue               0\n",
            "MonthlyMinutes               0\n",
            "TotalRecurringCharge         0\n",
            "DirectorAssistedCalls        0\n",
            "OverageMinutes               0\n",
            "RoamingCalls                 0\n",
            "PercChangeMinutes            0\n",
            "PercChangeRevenues           0\n",
            "DroppedCalls                 0\n",
            "BlockedCalls                 0\n",
            "UnansweredCalls              0\n",
            "CustomerCareCalls            0\n",
            "ThreewayCalls                0\n",
            "ReceivedCalls                0\n",
            "OutboundCalls                0\n",
            "InboundCalls                 0\n",
            "PeakCallsInOut               0\n",
            "OffPeakCallsInOut            0\n",
            "DroppedBlockedCalls          0\n",
            "CallForwardingCalls          0\n",
            "CallWaitingCalls             0\n",
            "MonthsInService              0\n",
            "UniqueSubs                   0\n",
            "ActiveSubs                   0\n",
            "ServiceArea                  0\n",
            "Handsets                     0\n",
            "HandsetModels                0\n",
            "CurrentEquipmentDays         0\n",
            "AgeHH1                       0\n",
            "AgeHH2                       0\n",
            "ChildrenInHH                 0\n",
            "HandsetRefurbished           0\n",
            "HandsetWebCapable            0\n",
            "TruckOwner                   0\n",
            "RVOwner                      0\n",
            "Homeownership                0\n",
            "BuysViaMailOrder             0\n",
            "RespondsToMailOffers         0\n",
            "OptOutMailings               0\n",
            "NonUSTravel                  0\n",
            "OwnsComputer                 0\n",
            "HasCreditCard                0\n",
            "RetentionCalls               0\n",
            "RetentionOffersAccepted      0\n",
            "NewCellphoneUser             0\n",
            "NotNewCellphoneUser          0\n",
            "ReferralsMadeBySubscriber    0\n",
            "IncomeGroup                  0\n",
            "OwnsMotorcycle               0\n",
            "AdjustmentsToCreditRating    0\n",
            "HandsetPrice                 0\n",
            "MadeCallToRetentionTeam      0\n",
            "CreditRating                 0\n",
            "PrizmCode                    0\n",
            "Occupation                   0\n",
            "MaritalStatus                0\n",
            "dtype: int64\n"
          ]
        }
      ]
    },
    {
      "cell_type": "markdown",
      "source": [
        "#Drop the unwanted columns"
      ],
      "metadata": {
        "id": "ntpb93m1_6F-"
      }
    },
    {
      "cell_type": "markdown",
      "source": [
        "As there are 748 types of service areas it will create too many features when we will want to generate dummy variables so it's preferred to drop this column."
      ],
      "metadata": {
        "id": "tjjih-KFAh2E"
      }
    },
    {
      "cell_type": "code",
      "source": [
        "df_train['ServiceArea'].value_counts()"
      ],
      "metadata": {
        "colab": {
          "base_uri": "https://localhost:8080/"
        },
        "id": "0-_EJU6y_vBX",
        "outputId": "b691149a-5d8f-4afc-cea5-caa90a6755f4"
      },
      "execution_count": 24,
      "outputs": [
        {
          "output_type": "execute_result",
          "data": {
            "text/plain": [
              "NYCBRO917    1708\n",
              "HOUHOU281    1510\n",
              "DALDAL214    1498\n",
              "NYCMAN917    1182\n",
              "APCFCH703     783\n",
              "             ... \n",
              "OHIRAV330       1\n",
              "OMANEW515       1\n",
              "KCYHES316       1\n",
              "AIRGEO843       1\n",
              "NCRDNN910       1\n",
              "Name: ServiceArea, Length: 747, dtype: int64"
            ]
          },
          "metadata": {},
          "execution_count": 24
        }
      ]
    },
    {
      "cell_type": "code",
      "source": [
        "df_train = df_train.drop(['ServiceArea'], axis = 1)"
      ],
      "metadata": {
        "id": "JMbKLBU5ATfQ"
      },
      "execution_count": 25,
      "outputs": []
    },
    {
      "cell_type": "markdown",
      "source": [
        "### Checking variables coherence"
      ],
      "metadata": {
        "id": "t5nRe94IBXf5"
      }
    },
    {
      "cell_type": "code",
      "source": [
        "print('\\n', df_train['NewCellphoneUser'].value_counts(), '\\n')\n",
        "print('\\n', df_train['NotNewCellphoneUser'].value_counts())"
      ],
      "metadata": {
        "colab": {
          "base_uri": "https://localhost:8080/"
        },
        "id": "6aj3cOPZ_u-D",
        "outputId": "b7f28f75-e84a-47e1-c446-9bbf82a2a5f5"
      },
      "execution_count": 26,
      "outputs": [
        {
          "output_type": "stream",
          "name": "stdout",
          "text": [
            "\n",
            " No     41223\n",
            "Yes     9824\n",
            "Name: NewCellphoneUser, dtype: int64 \n",
            "\n",
            "\n",
            " No     44012\n",
            "Yes     7035\n",
            "Name: NotNewCellphoneUser, dtype: int64\n"
          ]
        }
      ]
    },
    {
      "cell_type": "markdown",
      "source": [
        "NotNewCellphoneUser should be the exact opposite of the NewCellphoneUser feature. \\ Based on the distribution of the \"Yes\" and \"No\" values of both columns, we found an incoherence and thus we have to drop of one them. \\ Since NewCellphoneUser is more comprehensive, we will keep this one."
      ],
      "metadata": {
        "id": "k87xINnvBbOi"
      }
    },
    {
      "cell_type": "code",
      "source": [
        "df_train = df_train.drop(['NotNewCellphoneUser'], axis = 1)"
      ],
      "metadata": {
        "id": "oYx2-NoV_u7c"
      },
      "execution_count": 27,
      "outputs": []
    },
    {
      "cell_type": "code",
      "source": [
        "def encode(df):\n",
        "  for i in df.columns:\n",
        "    if df.dtypes[i] == object:\n",
        "      label_encoder.fit(df[i].astype(str))\n",
        "      df[i] = label_encoder.transform(df[i].astype(str))\n",
        "  return df"
      ],
      "metadata": {
        "id": "Fki_M9927NHx"
      },
      "execution_count": 28,
      "outputs": []
    },
    {
      "cell_type": "code",
      "source": [
        "df_train=encode(df_train)\n",
        "# df_train.info()"
      ],
      "metadata": {
        "id": "ooFTGVwrAPkk"
      },
      "execution_count": 29,
      "outputs": []
    },
    {
      "cell_type": "code",
      "source": [
        "print(df_train.columns)\n",
        "print(len(df_train.columns))"
      ],
      "metadata": {
        "colab": {
          "base_uri": "https://localhost:8080/"
        },
        "id": "QBN5A4g-B8qH",
        "outputId": "820a5929-72aa-478d-ab48-716d5d71e135"
      },
      "execution_count": 30,
      "outputs": [
        {
          "output_type": "stream",
          "name": "stdout",
          "text": [
            "Index(['CustomerID', 'Churn', 'MonthlyRevenue', 'MonthlyMinutes',\n",
            "       'TotalRecurringCharge', 'DirectorAssistedCalls', 'OverageMinutes',\n",
            "       'RoamingCalls', 'PercChangeMinutes', 'PercChangeRevenues',\n",
            "       'DroppedCalls', 'BlockedCalls', 'UnansweredCalls', 'CustomerCareCalls',\n",
            "       'ThreewayCalls', 'ReceivedCalls', 'OutboundCalls', 'InboundCalls',\n",
            "       'PeakCallsInOut', 'OffPeakCallsInOut', 'DroppedBlockedCalls',\n",
            "       'CallForwardingCalls', 'CallWaitingCalls', 'MonthsInService',\n",
            "       'UniqueSubs', 'ActiveSubs', 'Handsets', 'HandsetModels',\n",
            "       'CurrentEquipmentDays', 'AgeHH1', 'AgeHH2', 'ChildrenInHH',\n",
            "       'HandsetRefurbished', 'HandsetWebCapable', 'TruckOwner', 'RVOwner',\n",
            "       'Homeownership', 'BuysViaMailOrder', 'RespondsToMailOffers',\n",
            "       'OptOutMailings', 'NonUSTravel', 'OwnsComputer', 'HasCreditCard',\n",
            "       'RetentionCalls', 'RetentionOffersAccepted', 'NewCellphoneUser',\n",
            "       'ReferralsMadeBySubscriber', 'IncomeGroup', 'OwnsMotorcycle',\n",
            "       'AdjustmentsToCreditRating', 'HandsetPrice', 'MadeCallToRetentionTeam',\n",
            "       'CreditRating', 'PrizmCode', 'Occupation', 'MaritalStatus'],\n",
            "      dtype='object')\n",
            "56\n"
          ]
        }
      ]
    },
    {
      "cell_type": "markdown",
      "source": [
        "**Splitting data**"
      ],
      "metadata": {
        "id": "PIMCphhvS44c"
      }
    },
    {
      "cell_type": "code",
      "source": [
        "X=df_train.drop(columns=['Churn'])\n",
        "Y=df_train['Churn']\n",
        "print(X.shape)\n",
        "print(Y.shape)"
      ],
      "metadata": {
        "colab": {
          "base_uri": "https://localhost:8080/"
        },
        "id": "4Yqfiyf_FHIP",
        "outputId": "9e2e48d8-d727-4f5e-f3be-b88d40927274"
      },
      "execution_count": 31,
      "outputs": [
        {
          "output_type": "stream",
          "name": "stdout",
          "text": [
            "(51047, 55)\n",
            "(51047,)\n"
          ]
        }
      ]
    },
    {
      "cell_type": "code",
      "source": [
        "from sklearn.model_selection import train_test_split\n",
        "X_train,X_test,Y_train,Y_test=train_test_split(X,Y,test_size=0.2,random_state=42)"
      ],
      "metadata": {
        "id": "eN5hV9ZaFqao"
      },
      "execution_count": 42,
      "outputs": []
    },
    {
      "cell_type": "code",
      "source": [
        "print('X train shape: ', X_train.shape)\n",
        "print('Y train shape: ', Y_train.shape)\n",
        "print('X test shape: ', X_test.shape)\n",
        "print('Y test shape: ', Y_test.shape)"
      ],
      "metadata": {
        "colab": {
          "base_uri": "https://localhost:8080/"
        },
        "id": "h-v1xz3fT5YE",
        "outputId": "deae073e-e0db-4415-ef85-007a6faf37c5"
      },
      "execution_count": 43,
      "outputs": [
        {
          "output_type": "stream",
          "name": "stdout",
          "text": [
            "X train shape:  (40837, 55)\n",
            "Y train shape:  (40837,)\n",
            "X test shape:  (10210, 55)\n",
            "Y test shape:  (10210,)\n"
          ]
        }
      ]
    },
    {
      "cell_type": "markdown",
      "source": [
        "Normalize the data"
      ],
      "metadata": {
        "id": "MZzoNIZPFd_M"
      }
    },
    {
      "cell_type": "code",
      "source": [
        "from sklearn.preprocessing import MinMaxScaler\n",
        "\n",
        "scaler_baseline = MinMaxScaler().fit(X_train)\n",
        "X_train_scaled = scaler_baseline.transform(X_train)\n",
        "\n",
        "# Apply the same scaling to the validation data\n",
        "X_val_baseline_scaled = scaler_baseline.transform(X_test)"
      ],
      "metadata": {
        "id": "3hM9G6ZbEji9"
      },
      "execution_count": 44,
      "outputs": []
    },
    {
      "cell_type": "code",
      "source": [
        "from sklearn.linear_model import LogisticRegression\n",
        "\n",
        "lr_model = LogisticRegression(penalty = 'l2', solver = 'lbfgs', C = 1.0)\n",
        "lr_model.fit(X_train_scaled, Y_train)"
      ],
      "metadata": {
        "colab": {
          "base_uri": "https://localhost:8080/"
        },
        "id": "_kDMBcjjEjfi",
        "outputId": "5505ce76-3175-4382-8967-7dfa182fbbe6"
      },
      "execution_count": 45,
      "outputs": [
        {
          "output_type": "stream",
          "name": "stderr",
          "text": [
            "/usr/local/lib/python3.8/dist-packages/sklearn/linear_model/_logistic.py:814: ConvergenceWarning: lbfgs failed to converge (status=1):\n",
            "STOP: TOTAL NO. of ITERATIONS REACHED LIMIT.\n",
            "\n",
            "Increase the number of iterations (max_iter) or scale the data as shown in:\n",
            "    https://scikit-learn.org/stable/modules/preprocessing.html\n",
            "Please also refer to the documentation for alternative solver options:\n",
            "    https://scikit-learn.org/stable/modules/linear_model.html#logistic-regression\n",
            "  n_iter_i = _check_optimize_result(\n"
          ]
        },
        {
          "output_type": "execute_result",
          "data": {
            "text/plain": [
              "LogisticRegression()"
            ]
          },
          "metadata": {},
          "execution_count": 45
        }
      ]
    },
    {
      "cell_type": "code",
      "source": [
        "y_pred = lr_model.predict(X_val_baseline_scaled)"
      ],
      "metadata": {
        "id": "2npjEdizHhBf"
      },
      "execution_count": 46,
      "outputs": []
    },
    {
      "cell_type": "code",
      "source": [
        "# The confusion matrix\n",
        "lcm = confusion_matrix(Y_test, y_pred)\n",
        "f, ax = plt.subplots(figsize=(5,5))\n",
        "sns.heatmap(lcm, annot=True, linewidth=0.7, linecolor='black', fmt='g', ax=ax, cmap=\"BuPu\")\n",
        "plt.title('Logistic Regression Confusion Matrix')\n",
        "plt.xlabel('Y predict')\n",
        "plt.ylabel('Y test')\n",
        "plt.show()"
      ],
      "metadata": {
        "colab": {
          "base_uri": "https://localhost:8080/",
          "height": 350
        },
        "id": "CTKsZsC0UpOJ",
        "outputId": "e06efa1e-93e3-4a2a-8d4b-80e9d166e145"
      },
      "execution_count": 47,
      "outputs": [
        {
          "output_type": "display_data",
          "data": {
            "text/plain": [
              "<Figure size 360x360 with 2 Axes>"
            ],
            "image/png": "[encoded data removed]"
          },
          "metadata": {
            "needs_background": "light"
          }
        }
      ]
    },
    {
      "cell_type": "code",
      "source": [
        "cm = pd.crosstab(y_pred, Y_test, rownames = ['Predicted Values'], colnames = ['Actual values'])\n",
        "cm"
      ],
      "metadata": {
        "colab": {
          "base_uri": "https://localhost:8080/",
          "height": 143
        },
        "id": "XqUJC_b1EjdE",
        "outputId": "b91f4f09-083f-4fc1-e4e9-c647fc9b85e8"
      },
      "execution_count": 48,
      "outputs": [
        {
          "output_type": "execute_result",
          "data": {
            "text/plain": [
              "Actual values        0     1\n",
              "Predicted Values            \n",
              "0                 7224  2832\n",
              "1                   84    70"
            ],
            "text/html": [
              "\n",
              "  <div id=\"df-722c4495-5250-414e-b52e-2c85e165f366\">\n",
              "    <div class=\"colab-df-container\">\n",
              "      <div>\n",
              "<style scoped>\n",
              "    .dataframe tbody tr th:only-of-type {\n",
              "        vertical-align: middle;\n",
              "    }\n",
              "\n",
              "    .dataframe tbody tr th {\n",
              "        vertical-align: top;\n",
              "    }\n",
              "\n",
              "    .dataframe thead th {\n",
              "        text-align: right;\n",
              "    }\n",
              "</style>\n",
              "<table border=\"1\" class=\"dataframe\">\n",
              "  <thead>\n",
              "    <tr style=\"text-align: right;\">\n",
              "      <th>Actual values</th>\n",
              "      <th>0</th>\n",
              "      <th>1</th>\n",
              "    </tr>\n",
              "    <tr>\n",
              "      <th>Predicted Values</th>\n",
              "      <th></th>\n",
              "      <th></th>\n",
              "    </tr>\n",
              "  </thead>\n",
              "  <tbody>\n",
              "    <tr>\n",
              "      <th>0</th>\n",
              "      <td>7224</td>\n",
              "      <td>2832</td>\n",
              "    </tr>\n",
              "    <tr>\n",
              "      <th>1</th>\n",
              "      <td>84</td>\n",
              "      <td>70</td>\n",
              "    </tr>\n",
              "  </tbody>\n",
              "</table>\n",
              "</div>\n",
              "      <button class=\"colab-df-convert\" onclick=\"convertToInteractive('df-722c4495-5250-414e-b52e-2c85e165f366')\"\n",
              "              title=\"Convert this dataframe to an interactive table.\"\n",
              "              style=\"display:none;\">\n",
              "        \n",
              "  <svg xmlns=\"http://www.w3.org/2000/svg\" height=\"24px\"viewBox=\"0 0 24 24\"\n",
              "       width=\"24px\">\n",
              "    <path d=\"M0 0h24v24H0V0z\" fill=\"none\"/>\n",
              "    <path d=\"M18.56 5.44l.94 2.06.94-2.06 2.06-.94-2.06-.94-.94-2.06-.94 2.06-2.06.94zm-11 1L8.5 8.5l.94-2.06 2.06-.94-2.06-.94L8.5 2.5l-.94 2.06-2.06.94zm10 10l.94 2.06.94-2.06 2.06-.94-2.06-.94-.94-2.06-.94 2.06-2.06.94z\"/><path d=\"M17.41 7.96l-1.37-1.37c-.4-.4-.92-.59-1.43-.59-.52 0-1.04.2-1.43.59L10.3 9.45l-7.72 7.72c-.78.78-.78 2.05 0 2.83L4 21.41c.39.39.9.59 1.41.59.51 0 1.02-.2 1.41-.59l7.78-7.78 2.81-2.81c.8-.78.8-2.07 0-2.86zM5.41 20L4 18.59l7.72-7.72 1.47 1.35L5.41 20z\"/>\n",
              "  </svg>\n",
              "      </button>\n",
              "      \n",
              "  <style>\n",
              "    .colab-df-container {\n",
              "      display:flex;\n",
              "      flex-wrap:wrap;\n",
              "      gap: 12px;\n",
              "    }\n",
              "\n",
              "    .colab-df-convert {\n",
              "      background-color: #E8F0FE;\n",
              "      border: none;\n",
              "      border-radius: 50%;\n",
              "      cursor: pointer;\n",
              "      display: none;\n",
              "      fill: #1967D2;\n",
              "      height: 32px;\n",
              "      padding: 0 0 0 0;\n",
              "      width: 32px;\n",
              "    }\n",
              "\n",
              "    .colab-df-convert:hover {\n",
              "      background-color: #E2EBFA;\n",
              "      box-shadow: 0px 1px 2px rgba(60, 64, 67, 0.3), 0px 1px 3px 1px rgba(60, 64, 67, 0.15);\n",
              "      fill: #174EA6;\n",
              "    }\n",
              "\n",
              "    [theme=dark] .colab-df-convert {\n",
              "      background-color: #3B4455;\n",
              "      fill: #D2E3FC;\n",
              "    }\n",
              "\n",
              "    [theme=dark] .colab-df-convert:hover {\n",
              "      background-color: #434B5C;\n",
              "      box-shadow: 0px 1px 3px 1px rgba(0, 0, 0, 0.15);\n",
              "      filter: drop-shadow(0px 1px 2px rgba(0, 0, 0, 0.3));\n",
              "      fill: #FFFFFF;\n",
              "    }\n",
              "  </style>\n",
              "\n",
              "      <script>\n",
              "        const buttonEl =\n",
              "          document.querySelector('#df-722c4495-5250-414e-b52e-2c85e165f366 button.colab-df-convert');\n",
              "        buttonEl.style.display =\n",
              "          google.colab.kernel.accessAllowed ? 'block' : 'none';\n",
              "\n",
              "        async function convertToInteractive(key) {\n",
              "          const element = document.querySelector('#df-722c4495-5250-414e-b52e-2c85e165f366');\n",
              "          const dataTable =\n",
              "            await google.colab.kernel.invokeFunction('convertToInteractive',\n",
              "                                                     [key], {});\n",
              "          if (!dataTable) return;\n",
              "\n",
              "          const docLinkHtml = 'Like what you see? Visit the ' +\n",
              "            '<a target=\"_blank\" href=https://colab.research.google.com/notebooks/data_table.ipynb>data table notebook</a>'\n",
              "            + ' to learn more about interactive tables.';\n",
              "          element.innerHTML = '';\n",
              "          dataTable['output_type'] = 'display_data';\n",
              "          await google.colab.output.renderOutput(dataTable, element);\n",
              "          const docLink = document.createElement('div');\n",
              "          docLink.innerHTML = docLinkHtml;\n",
              "          element.appendChild(docLink);\n",
              "        }\n",
              "      </script>\n",
              "    </div>\n",
              "  </div>\n",
              "  "
            ]
          },
          "metadata": {},
          "execution_count": 48
        }
      ]
    },
    {
      "cell_type": "code",
      "source": [
        "score_1 = lr_model.score(X_test, Y_test)\n",
        "print(score_1)"
      ],
      "metadata": {
        "colab": {
          "base_uri": "https://localhost:8080/"
        },
        "id": "8f843tOwVGSC",
        "outputId": "8b1cae6b-56b2-45c3-8898-e7cc7dfb38de"
      },
      "execution_count": 49,
      "outputs": [
        {
          "output_type": "stream",
          "name": "stdout",
          "text": [
            "0.7157688540646425\n"
          ]
        },
        {
          "output_type": "stream",
          "name": "stderr",
          "text": [
            "/usr/local/lib/python3.8/dist-packages/sklearn/base.py:443: UserWarning: X has feature names, but LogisticRegression was fitted without feature names\n",
            "  warnings.warn(\n"
          ]
        }
      ]
    }
  ]
}